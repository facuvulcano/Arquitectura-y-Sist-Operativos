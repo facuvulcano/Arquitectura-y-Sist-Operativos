{
 "cells": [
  {
   "cell_type": "markdown",
   "metadata": {},
   "source": [
    "ejercicios de raid donde hay que saber cuales son los distintos tipos de raid, saber armar un raid con cierta capacidad, saber que pasa si se romope un disco si se rompen dos o tres, con uan capacidad armar raids\n",
    "\n",
    "ejercicios de procesos muy conceptuales.\n",
    "\n",
    "manejo de memoria con segmentado y paginado, que son, que ventajas tiene, como se logra la recolacion dinamica entre procesos, la proteccion\n",
    "\n",
    "threads muy similar a procesos\n",
    "\n",
    "explicar el segmentado\n",
    "\n"
   ]
  }
 ],
 "metadata": {
  "language_info": {
   "name": "python"
  }
 },
 "nbformat": 4,
 "nbformat_minor": 2
}
