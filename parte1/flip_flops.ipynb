{
 "cells": [
  {
   "cell_type": "markdown",
   "metadata": {},
   "source": [
    "# Flip Flops\n",
    "\n",
    "A veces algunos circuitos tienen memoria, la salida no depende solamente de las entradas, sino que tambien de lo que paso antes, o en otras palabras hay alguna salida que esta metida en la entrada. Estos circuitos no se llaman combinacionales, las salidas no son exclusivamente funcion de la entrada sino que dependen de las salidas que estaban antes, por eso decimos que tienen un efecto de memoria. El mas sencillo es el flip flop del tipo RS. El RS sale de SET-REST. Tenemos ANDS negadas, ponemos uno en las dos entradas, tengo que asumir un estado para la salida y tengo que recorrer para que quede todo en estado estable. 1 AND NEGADO 1 ---> 0. 0 AND NEGADO 1 ---> 1, estamos en estado estable. Podriamos tener circuitos que oscilan que nunca llegan al estado estable. Porque se llama set reset? si aplico un pulso en set es decir un 0, entonces 0 y 1 en NAND es 1, 1 y 1 NAND es 0. Entonces cuando pulse el set, es decir puse set en 0, la salida me dio 1, almacene un 1. La unica forma que tendria de cambiar esto es pulsar el reset. Mientras que mantenga las dos entrada en 1 almacena el valor que tenia. Si quisieramos escribir un 1 tendriamos que pulsar el set, si quisiera almacenar el 0 pulsaria el reset. Esto tenia un problema y es que si por algun motivo pulso el set y el reset a la vez, la dos entradas de las dos NANDS serian 0 con lo cual las dos salidas serian 1, y por ende ya no respetaria el Q y el no Q son siempre iguales y contrarias. Lo que podriamos hacer es agregar un segundo nivel de compuertas que nos va a dar una ventaja y una desventaja, al flip flop RS se le agregan dos compuertas adelante y una senial de clock. Que es el clock? todos los cambios en un ordenador se hace sincronizado con una senial de reloj, la idea es que con cada pulso de 0 a 1 de esa senial de reloj se va ejecutando un paso de lo que hay que hacer. El tiempo que hay entre un pulso y el siguiente esta limitado por la velocidad de los circuitos que tengamos. Esta senial de clock lo que hace es sincronizar y dar tiempo para que todas las salidas de los circuitos intermedios que estemos usando esten estables antes de proceder al siguiente paso. Si el clock esta en 0 automaticamente las salidas de las dos NANDS que se agregaron va a estar en 1 y vamos a estar en el estado en el que no se modificaba la salida. Esto quiere decir que todo el tiempo en el que el clock va a estar en 0, el circuito no va a alterar su salida. Cuando el clock pase a 1, enrealidad ahora si dependiendo de J y K vamos a tener 1 en una de las salidas pero vamos a bloquear el caso anterior en donde los dos tenian 1, porque si yo utilizo la salida para entrar a la senial de entrada, y podemos garantiar que Q y no Q son negados, entonces solo una de las dos va a tener en Q la entrada en 1, nunca van a poder estar la dos entradas R y S del flip flop de atras simultaneamente en 0. Con esta nueva incorporacion hemos hecho un par de mejoras. La primera es que vamos a introducir el sincronizmo con la senial del clock. La segunda ventaja es impedir que este circuito tenga en la parte de atras las dos entradas simultaneamente en 0 lo cual producia una salida invalida. Esto tiene una desventaja, si pongo las dos entradas J y K en 0, como solo una de las dos ramas de realimentacion va a tener un 1 va a ser imposible que el flip flop RS tenga las dos entradas en 0."
   ]
  }
 ],
 "metadata": {
  "language_info": {
   "name": "python"
  }
 },
 "nbformat": 4,
 "nbformat_minor": 2
}
