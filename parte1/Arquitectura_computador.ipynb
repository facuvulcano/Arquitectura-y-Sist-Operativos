{
 "cells": [
  {
   "cell_type": "markdown",
   "metadata": {},
   "source": [
    "## Arquitectura de Von Neumann\n",
    "\n",
    "Todas las computadoras modernas heredan de el bloque que hizo Von Neumann. Escencialmente, von neumann decia que tenemos un procesador que tiene un bus de direcciones y un bus de datos, por el bus de direcciones el procesador le indica a los dispositivos que direccion que quiere leer, y por el bus de datos lee eso o caso contrario el bus de direcciones indica que posicion quiere escribir y por el bus de datos le manda los datos que quiere escribir. Uno de los dispositivos externos obligatorios es la memoria. Tambien necesitamos dispositivos E/S (vinculo del equipo con el exterior). Y dentro de la CPU tenemos un conjunto limitado de registros (para hacer calculos intermedios, rapidos), tenemos una unidad arimtemtico logica responsable de las operaciones y una unidad de control que determina como se usa esto, el orden, etc.\n",
    "\n",
    "## La CPU\n",
    "\n",
    "Tiene un bloque de registros que son un conjunto de posiciones de memoria cuyos valores son utilizados para la ejecucion de ciertas instrucciones. Algunos de estos registros son de proposito general pero otros tienen usos especificos: uno se llama instruction pointer o program counter que tiene la direccion de memoria donde esta la proxima instruccion a ejecutar. Por otro lado el stack pointer, contiene la direccion de la pila usada para almacenar y recuperar informacion de direcciones y datos. Tambien tenemos el registro de flags que contiene un monton de bits que determinan el estado del procesador, algunos bits son causados por operaciones del usuario. La ALU (metido dentro del procesador) es la responsable de todas las operaciones matematicas. Es un bloque combinacional de puertas que toma dos conjuntos de  bits (dos buses independientes) y tiene un bus de resultado. Soporta una operacion y actualiza como resultado los flags. Obviamente esto actualiza en cada operacion los flags. Tiene hasta dos valores de entrada. Ejecuta la operacion indicada y genera un resultado. Ademas actualiza algunos bits en el registro de FLAGS. Los bits actualizados incluyen el CARRY y el ZERO. Memoria: escencialmente es un chip que tiene un conjunto de datos guardados organizados en n palabras de n bits cada una, distintos chips tendran distintos tamanios de memoria y distintos tamanios de palabra. El concepto de palabra es complicado, porque en si la palabra es la cantidad de bits que el procesador puede pedir y guardar a la vez. Las memorias tienen bits grabados, y estos unos y ceros dependen de como se interpreten, parte puede ser la memoria del programa y otros bloques seran interpretados como datos. Dispositivos de entrada y salida que le permiten a esa pequenia computadora para interactuar con el mundo exterior. Estos dispositivos en general son muchisimo mas lentos que lo que es el procesador. El bus de direcciones es por el cual el procesador individualiza una posicion ya sea de la memoria o de E/S porque quiere levantar un dato. Si esa posicion es de memoria voy a leer lo que grabe antes, y sino grabe nada tendra cualquier cosas indeterminado. Si voy a individuzar un dispositivo de E/S seguramente lo que voy a leer es algo de ese dispositivo. En definitiva todos los dispositivos de E/S son una o mas posiciones de meoria. En definitiva todos los procesdores tienen cantidad finita de palabras que puede ller (espacio de direcciones) y eso en valor es 2^cantidad de cables que hay en el bus de adress. El tema con la cantidad de cablecitos es que todo el hardware depende de eso. La realidad es que poner mas cables es mas costoso por eso es que las maquinas hoy en dia tienen bus de adress de 64, 40 bits y antes tenian la mitad. Una alternativa o solucion de compromiso a el hecho de direccionar mas cosas y poner mas cables es el multiplexado. El multiplexado dice que partimos la direccion en dos mitades, le mando una senial para avisarle cual es la parte baja y lo mismo con la alta. De esa forma puedo acceder a muchisimas mas direcciones. Es una alternativa porque al doble de tiempo es el cuadrado de las posibilidades. El bus de datos es el que permite el intercambio de informacion entre el porcesador y la memoria. El bus de datos es bidireccional y el bus de adress es unidireccional. Tamanio de bus de datos 64 bits. La unidad de control es el bloque que orquesta el funcionamiento del conjunto. Ejecutando un paso por ciclo de reloj va habilitnado los distintos BUSES de forma que se pueda levantar la siguiente instruccion de memoria, luego decodifica y ajusta el flujo de datos por los BUSES internos y externos para ejecutarla, por ultimo vuelve a ajustar los BUSES externos para guardar los resultados en memoria si corresponde. \n",
    "\n",
    "## Ejemplo de CPU\n",
    "\n",
    "Hemos visto los bloques basicos como para poder armar un primer procesador. Este procesador sera muy sencillo y obviamente la complejidad puede aumentar drasticamente. Esta CPU tiene solamente dos registros el Ra y el Rb. Soporta por lo menos eficientemente dos formas de operar, registro operacion con memoria o registro con registro. En cualquiera de los casos uno de los registros tiene que ser el Rb. Si opera entre el registro y la memoria el resultado de la operacion se pone en un registro. Si opera entre dos registros el resultado va a memoria. Cada instruccion ocupa exactamente dos palabras, eso no es verdad en la mayoria de los procesadores CISC sobre todo. Cada palabra formalmente es el ancho que levanta el procesadora a la vez, requerir dos palabras es requerir dos accesos a memoria. Tengo que levantar una posicion de memoria y la siguiente y con eso defino una instruccion. Despues, cada instruccion va a tener 4 fases, va a llevar 4 ciclos de reloj para ejecutarse. La primera se va a usar para cargar el instruccion pointer, el segundo para la direccion, el tercero sera para ejecutar y guardar los resultados y el cuarto no lo vamos a usar. Esto tiene varias cosas que son ineficientes arrancando por desperdiciar una cuarta parte del tiempo de la cpu.\n",
    "\n",
    "ALU: hace un monton de operaciones, recibe la operacion y con la operacion y dos bases que representan los dos numeros involucrados en la operacion genera para arriba la salida de el resultado. La salida de la ALU tiene un bus interno con un tri-state que permite que la salida salga para afuera. La ALU toma dos numeros uno es el Rb siempre.\n",
    "\n",
    "Bloque de registro: en nuestro caso tenemos 3 registros, dos de propositos generales, el Ra y el Rb, y un instruction pointer (contiene la direccion de la siguiente instruccion a ejecutar, es un registro de proposito especifico).\n",
    "\n",
    "Bus de datos que vincula la salida de la alu y estan los registros tambien. Estos registros no son mas que flip flops tipo D, tiene un load que almacena el valor. El registro IP esta implementado con un bloque contador, tiene un load que permite presetear el valor, y tenemos un incrementador que aumenta. \n",
    "\n",
    "Hay un multiplexor de tres entradas con 3 output enables. Obviamente nuestra UC tendra que ser suficientmente inteligente para no activar dos OE a la vez.\n",
    "\n",
    "Hay dos registros ocultos que estan en el procesador, son ocultos porque no hay instruccion que los puedan acceder. El IR almacena la instruccion a ejecutar (guarda una de las dos palabras (la primera)). El otro registro oculto es el Adress Register, aca se guarda la segunda palabra, esta palabra es la que tiene la direccion de memoria sobre la que voy a trabajar, ya sea de donde voy a levantar el parametro para operar o donde voy a guardar el resultado. \n",
    "\n",
    "Memoria: tiene un bus de datos que es donde pone o saca los datos. Se puede usar para cuatro cosas en principio, si quiere escribir tengo que mandar los dos registros a la ALU y la salida de la ALU la mando a memoria para guardar el resultado en memoria. Si estuviera leyendo en vez de escribir, el dato de la memoria puede ir a tres lugares, o a la entrada del multiplexor, o al adress register o al instruction register.\n",
    "\n",
    "Unidad de control: va a controlar todas las lineas azules para ejecutar la instruccion que uno quiera.\n",
    "\n"
   ]
  }
 ],
 "metadata": {
  "language_info": {
   "name": "python"
  }
 },
 "nbformat": 4,
 "nbformat_minor": 2
}
