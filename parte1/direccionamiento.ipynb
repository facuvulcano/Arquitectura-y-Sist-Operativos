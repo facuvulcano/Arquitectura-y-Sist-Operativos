{
 "cells": [
  {
   "cell_type": "markdown",
   "metadata": {},
   "source": [
    "## Modos de direccionamiento\n",
    "\n",
    "Es la forma en que el procesador puede especificar la direccion de algo que necesita. Una alternativa era el direccionamiento inmediato, este escencialmente era poner la direccion de memoria de lo que queriamos, no hace falta ni ir a memoria. La siguiente alternativa era el directo que pone la direccion de memoria, es bastante simple pero hay que pasar por memoria, por eso es un poco mas lento. Tambien tenemos el indirecto, queremos una posicion de memoria que tiene la direccion de lo que queremos, hay que ir dos veces a memoria en este caso. Por ultimo tenemos indexado, donde escencialmnete primero tenemos la direccion base le sumamos algun registro y con eso tenemos la direccion de lo que queremos levantar. Hay distintas clases de indexado. \n",
    "\n",
    "## La pila o stack\n",
    "\n",
    "Estos modos de direccionamiento cuanto mas amplios, complejizan el hardware pero son mejores. Todo lo que pueda hacer por hardware es mas rapido que implementarlo en un programa. Otra de las funcionalidades que tenemos es el stack pointer. Nos permite definir o manejar un stack de una forma sencilla. El stack pointer es un registro que tiene una direccion de memoria de la misma forma que el IP tiene una direccion de memoria. Stack pointer tiene la direccion del proximo lugar libre que tengo en el stack. Cuando uno hace un push trata de colocar en la pila un determinado valor. En el momento en que ejecuto la instruccion push lo que hace el procesador es agarrar la direccion que tenia, que la considera la ultima direccion usada y coloca el contenido que queria mandar al stack.\n",
    "\n",
    "## Decodificador de instrucciones\n",
    "\n",
    "Primero hay que buscar el opcode que me dice que instruccion es y es lo que poniamos en el instruction register. Luego hay que decodificar la instruccion. Despues, hay que calcular las direcciones, si no es directo hay que hacer calculos. Despues hay que buscar los datos esos. Tengo que guardar los resultados. Entonces la instruccion se puede partir en un monton de etapas distintas. La realidad es que todo esto es trabajo para el decodificador de instrucciones. Este decodificador de instrucciones es el ultimo paso/"
   ]
  }
 ],
 "metadata": {
  "language_info": {
   "name": "python"
  }
 },
 "nbformat": 4,
 "nbformat_minor": 2
}
