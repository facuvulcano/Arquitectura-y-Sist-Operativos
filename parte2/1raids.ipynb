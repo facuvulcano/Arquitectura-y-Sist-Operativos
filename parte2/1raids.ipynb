{
 "cells": [
  {
   "cell_type": "markdown",
   "metadata": {},
   "source": [
    "## **RAIDs**\n",
    "\n",
    "Si bien paso mucho tiempo desde los primeros dispositivos de almancenamiento, los problemas han sido consrtantes en el tiempo. En primer lugar, siempre hace falta mas almacenamiento. En segundo, lugar siempre se requiere almacenamiento mas rapido. Otro elemento no menor, es la redundancia (inmunidad ante fallas). Lo ideal es que si se rompe un disco el usuario no se entere. Siempre, la forma mas sencilla de resolver estas cosas es utilizar varios discos. \n",
    "\n",
    "Hay un tema de precio que hay que considerar. Si alguien quiere reasolver el problema de capacidad podria ir y comprar un disco mas grande, es una alternativa. Sin embargo si vemos el costo por TB de cualquier dispositivo de almacenamiento, se ve que algo que es relativamente chico, es viejo, por ende dificil de conseguir y en consecuencia caro. Hay un minimo, y despues comprarse lo ultimo tambien es mas caro. La realidad es que si utilizamos dos discos de menor tamanio en vez de comprar uno que sea el doble, no solo vere que sera mas barato sino que tambien sera mas rapido. Podre leer y escribir en paralelo con los dos discos, hay ventaja economica y de performance. Entonces utilizar mas de un disco me resuelve el problema de la capacidad y de la velocidad pero hay un problema todavia que es la redundancia. El hecho de poner dos discos me genera dos problemas. Como distribuyo los archivos en los discos? por otro lado la redundancia.\n",
    "\n",
    "Para resolver los problemas que vimos, por ejemplo si tengo dos discos y quiero verlos como uno solo es que aparece un concepto distinto. Antes teniamos un disco fisico, cada disco tenia un driver, y despues tenemos un driver de formato. Hay una forma distinta, en vez de poner debajo de cada driver un driver de formato se pone un driver de raid y este driver lo que hace es manejar lo sectores de los dos discos como si fuese uno solo. Y hay un unico driver de formato, entonces como usuario veo un solo disco que esta formateado en un solo lugar. La idea entonces detras del driver de RAID es agarrar un conjunto de discos y que esos discos se vean como otro grupo de sectores. Este driver entonces agarra un conjunto de sectores y me los muestra como otro conjunto de sectores\n",
    "\n",
    "Los numeros de los raids indican la forma en que se muestran para abajo los discos que tengo arriba.\n",
    "\n",
    "### **RAID 0**\n",
    "\n",
    "No es mas que la concatenacion de los discos. Tengo por ejemplo dos discos uno de 1 millon de sectores y otro de 1 millon de sectores, entonces la capa de RAID lo expone para abajo como si fuese un disco de 2 millones de sectores. Entonces puedo formatearlo como una unica unidad y va a tener el doble de la capacidad. Respecto a un disco de la misma capacidad, obviamente es mas rapido porque cuando yo lo veo por abajo son dos discos, entonces el driver puede escribir de a dos a la vez. Este proceso de intercalar los sectores se llama striping. En este caso se muestra con la concatenacion.\n",
    "\n",
    "### **RAID 1**\n",
    "\n",
    "Tambien se conoce como espejado. Es otra forma de mostrar para abajo los discos que tengo arriba. Si estoy armando un RAID 1 de tres discos por ejemplo, los va a mostrar como si fuese un solo disco de la capacidad de uno de esos discos. Por ejemplo tengo 2 discos de 4 tb, entonces el RAID 1 los va a mostrar como un disco de 4 tb. La gran perdida es que el disco resultante es mucho mas chico. Es raro ver RAID 1 de mas de una copia, puede estar justificado por alguna razon. \n",
    "\n",
    "### **RAID 10**\n",
    "\n",
    "Este raid mezcla el 1 con el 0, agarrar por ejemplo 4 discos y poder combinar las ventajas de los dos raids, pueden por ejemplo espejarse y concatenarse con otros discos que estan espejado. De esta forma se logran las dos cosas, la capacidad de aumentar la capacidad del disco sin que se me dispare el precio y gracias a la utilizacion en paralelo aumenta la velocidad. Tambien el disco resultante es mas chico, eso es una desventaja. Cuando espejo divido el tamano total y pierdo mucha capacidad.\n",
    "\n",
    "### **RAID 5**\n",
    "\n",
    "Viene a resolver el problema de perder tanto lugar. Hay una paridad que permite recuperar la informacion si alguno se pierde. La forma de recuperar la informacion es porque la paridad es la suma bit a bit de cada bit de los sectores de los otros discos, entonces si se me rompio un disco puedo hallar con un despeje los valores del disco roto. El raid 5 soporta que se rompa un disco solo, el problema es que obviamente hay que perder tiempo calculando la paridad, normalmente como esa paridad es un calculo en memoria, como son rapidos seguramente no va a sumar. De todas formas puede involucrar leer de disco lo que es lento. Las paridades se rpearten de tal forma que la totalidad de las paridades es igual a un disco. El problema es que realmente tengo n-1 discos utilizables.\n",
    "\n",
    "## **RAID 6**\n",
    "\n",
    "Es lo mismo que el 5 pero tiene dos discos de paridad, ahora tenemos P y Q que son dos funciones linealmente independientes. Si se me rompe un disco tengo de donde elegir para recuperarlo. El RAID 5 y el RAID 6 tienen un desperdicio mucho menor a diferencia del RAID 1, pero a expensas de eso se pierde tiempo generando las paridades.\n",
    "\n",
    "## **Soft vs. Hard**\n",
    "\n",
    "Quien hace todo esto? hay tres opciones:\n",
    "\n",
    "primero por hardware: solamente se ven los servidores, escencialmente es una placa que en vez de conectarle los discos al mother se los conectamos a la placa. Esta placa tiene un procesador que sabe manejar los distintos tipos de RAID y la ventaja es que libera el 100% del overhead que estariamos perdiendo en calcular las paridades al procesador. Es la opcion mas rapida pero obviamente mas cara porque requiere una placa especifica.\n",
    "\n",
    "La otra alternativa es que lo haga el bios, uno le conecta el mother de la maquina los distintos discos y va al bios, normalmente soportan RAID 1 y RAID 0. La ventaja que tiene que lo haga el BIOS es que durante mucho tiempo muchos SOs no lo soportaban. El problema es que esto resuelve el tema del tiempo.\n",
    "\n",
    "Por ultimo esta el software en donde el driver forma parte el mismo SO.\n",
    "\n",
    "## **DAS vs. NAS**\n",
    "\n",
    "Hoy en dia en cualquier datacenter la info no se almacena como una sola copia sino que en RAIDS y de hecho con volumens. El tema es que escalo a tal punto la complejidad y suele haber tantos discos que justifica que haya un componente independiente que se dedique al almacenamiento de datos, ese componente es el que tiene todo el almacenamiento del datacenters y es el que se encarga de poder mantenerlos en distintas configuraciones de RAID e inclusive con hasta ciertos espejados. Estos modulos claramente son computadoras en si misma, pero en definitiva lo que me interesa es ver como vamos a conectar el almacenamiento a las distintas maquinas. Hay dos alternativas, el DAS: donde el dispositivo esta fisicamnete vinculado como un disco a la maquina. La otra es el NAS: la conexion se hace a traves de una red. Escencialmente los discos estan fisicamente separados de la maquina. Leer algo implica mandar un comando por la red."
   ]
  }
 ],
 "metadata": {
  "language_info": {
   "name": "python"
  }
 },
 "nbformat": 4,
 "nbformat_minor": 2
}
