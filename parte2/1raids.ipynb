{
 "cells": [
  {
   "cell_type": "markdown",
   "metadata": {},
   "source": [
    "## **RAIDs**\n",
    "\n",
    "Si bien paso mucho tiempo desde los primeros dispositivos de almancenamiento, los problemas han sido consrtantes en el tiempo. En primer lugar, siempre hace falta mas almacenamiento. En segundo, lugar siempre se requiere almacenamiento mas rapido. Otro elemento no menor, es la redundancia (inmunidad ante fallas). Lo ideal es que si se rompe un disco el usuario no se entere. Siempre, la forma mas sencilla de resolver estas cosas es utilizar varios discos. \n",
    "\n",
    "Hay un tema de precio que hay que considerar. Si alguien quiere reasolver el problema de capacidad podria ir y comprar un disco mas grande, es una alternativa. Sin embargo si vemos el costo por TB de cualquier dispositivo de almacenamiento, se ve que algo que es relativamente chico, es viejo, por ende dificil de conseguir y en consecuencia caro. Hay un minimo, y despues comprarse lo ultimo tambien es mas caro. La realidad es que si utilizamos dos discos de menor tamanio en vez de comprar uno que sea el doble, no solo vere que sera mas barato sino que tambien sera mas rapido. Podre leer y escribir en paralelo con los dos discos, hay ventaja economica y de performance. Entonces utilizar mas de un disco me resuelve el problema de la capacidad y de la velocidad pero hay un problema todavia que es la redundancia. El hecho de poner dos discos me genera dos problemas. Como distribuyo los archivos en los discos? por otro lado la redundancia.\n",
    "\n",
    "Para resolver los problemas que vimos, por ejemplo si tengo dos discos y quiero verlos como uno solo es que aparece un concepto distinto. Antes teniamos un disco fisico, cada disco tenia un driver, y despues tenemos un driver de formato. Hay una forma distinta, en vez de poner debajo de cada driver un driver de formato se pone un driver de raid y este driver lo que hace es manejar lo sectores de los dos discos como si fuese uno solo. Y hay un unico driver de formato, entonces como usuario veo un solo disco que esta formateado en un solo lugar. La idea entonces detras del driver de RAID es agarrar un conjunto de discos y que esos discos se vean como otro grupo de sectores. Este driver entonces agarra un conjunto de sectores y me los muestra como otro conjunto de sectores\n",
    "\n",
    "Los numeros de los raids indican la forma en que se muestran para abajo los discos que tengo arriba.\n",
    "\n",
    "### **RAID 0**\n",
    "\n",
    "No es mas que la concatenacion de los discos. Tengo por ejemplo dos discos uno de 1 millon de sectores y otro de 1 millon de sectores, entonces la capa de RAID lo expone para abajo como si fuese un disco de 2 millones de sectores. Entonces puedo formatearlo como una unica unidad y va a tener el doble de la capacidad. Respecto a un disco de la misma capacidad, obviamente es mas rapido porque cuando yo lo veo por abajo son dos discos, entonces el driver puede escribir de a dos a la vez. Este proceso de intercalar los sectores se llama striping. En este caso se muestra con la concatenacion.\n",
    "\n",
    "### **RAID 1**\n",
    "\n",
    "Tambien se conoce como espejado. Es otra forma de mostrar para abajo los discos que tengo arriba. Si estoy armando un RAID 1 de tres discos por ejemplo, los va a mostrar como si fuese un solo disco de la capacidad de uno de esos discos. Por ejemplo tengo 2 discos de 4 tb, entonces el RAID 1 los va a mostrar como un disco de 4 tb. La gran perdida es que el disco resultante es mucho mas chico. Es raro ver RAID 1 de mas de una copia, puede estar justificado por alguna razon. \n",
    "\n",
    "### **RAID 10w**"
   ]
  }
 ],
 "metadata": {
  "language_info": {
   "name": "python"
  }
 },
 "nbformat": 4,
 "nbformat_minor": 2
}
