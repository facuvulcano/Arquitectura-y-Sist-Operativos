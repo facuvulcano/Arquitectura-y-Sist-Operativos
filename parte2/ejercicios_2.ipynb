{
 "cells": [
  {
   "cell_type": "markdown",
   "metadata": {},
   "source": [
    "## 3.\n",
    "\n",
    "Tenemos:\n",
    "\n",
    "Contexto: \n",
    "\n",
    "CS     003  (ring 3, codigo de usuario)\n",
    "\n",
    "LDTR   004  0000 (table indicator)\n",
    "\n",
    "Informacion sobre la memoria:\n",
    "\n",
    "0004  0000     00 02 00 00 FG 70 00 00\n",
    "0004  0008     00 10 12 34 56 F0 00 00 \n",
    "\n",
    "Que sucede al ejecutar las siguientes instrucciones asumiendo que el procesador i386 ejecuta en modo protegido con paginado deshabilitado?\n",
    "\n",
    "MOV DS, 0x00F\n",
    "MOV [0X10], RAX\n",
    "\n",
    "Paso 1: Abro el registro que quiero cargar de aca saco la tabla, el indice y el rpl. Con la tabla y el indice vamos al siguiente paso\n",
    "\n",
    "Paso 2: Buscar el descriptor del segmento\n",
    "\n",
    "Paso 3: Abro el descriptor, de aca saco varias cosas: primero el DPL (nos dice que este segmento es exclusivo para prioridad 3 y no puede cargarse con prioridad mayor, el codigo esta en prioridad 3, el sgmento esta en prioirdad 3 y se abre con prioridad 3, asique esta bien) Cuando saco el DPL tengo que hacer el primer chequeo entre el CPL (codigo que esta en el code semgent) el requested privilege level (RPL) y el descriptor privilege level (DPL). Podemos ver si la pagina esta presente (P) en RAM, tiene que estar en 1.\n",
    "\n",
    "Paso 4: Consultar el bit de G. G = 0 limite * 1 representa el limite en bytes, si G = 1 limite * 4K. El limite tiene solo 20 bits. En este caso G = 0 entonces el limite esta en bytes.\n",
    "\n",
    "Cuando terminamos los chequeos de permisos y de presente ya es suficiente para que el segmento se haya cargado y la primer instruccion se ejecute corretamente si presentar esepcion.\n",
    "\n",
    "La base nos importa poco para el analisis de la segunda instruccion.\n",
    "\n",
    "Lo primero que tenemos que hacer para chequear la segunda parte es ver si esa posicion 0x10 esta o no dentro del limite, el bit G = 0 entonces el limite esta en bytes. Como tiene un limit de 256 y quiere acceder al offset 16, porque 0x10 es 16, claramente la instruccion esta dentro del limite entonces la instruccion tendria exito. \n",
    "\n",
    "Si no estamos en modo protegido no se usan las tablas de segmentos ni nada.\n",
    "\n",
    "Si el paginado esta desahiblitado entonces la direccion lineal es la direccion fisica, si esta desahiblitado la direccion tiene que pasar por el sistema de paginado. Si tengo habilitado el segmentado y el paginado habria como una doble transformacion.\n",
    "\n",
    "## 10.\n",
    "\n",
    "El problema es que se esta creando un mutex por cada thread, lo que hara que todos los threads accedan al mismo tiempo a la variable global. El objetivo del mutex es que sincronize el acceso a la variable global y que cada thread pueda incrementarla."
   ]
  }
 ],
 "metadata": {
  "language_info": {
   "name": "python"
  }
 },
 "nbformat": 4,
 "nbformat_minor": 2
}
